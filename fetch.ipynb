{
  "nbformat": 4,
  "nbformat_minor": 0,
  "metadata": {
    "colab": {
      "name": "fetch.ipynb",
      "version": "0.3.2",
      "provenance": [],
      "collapsed_sections": [],
      "include_colab_link": true
    },
    "kernelspec": {
      "name": "python3",
      "display_name": "Python 3"
    }
  },
  "cells": [
    {
      "cell_type": "markdown",
      "metadata": {
        "id": "view-in-github",
        "colab_type": "text"
      },
      "source": [
        "<a href=\"https://colab.research.google.com/github/RedevLtd/ml-colab-test-1/blob/master/fetch.ipynb\" target=\"_parent\"><img src=\"https://colab.research.google.com/assets/colab-badge.svg\" alt=\"Open In Colab\"/></a>"
      ]
    },
    {
      "cell_type": "code",
      "metadata": {
        "id": "2wuVWLwJ_yCF",
        "colab_type": "code",
        "colab": {}
      },
      "source": [
        "def fetch_file( url, file ) :\n",
        "    \"Downloads the url to the specified local file\"\n",
        "    print(\"Fecthing File Url: \" + url + \" To File: \" + file )\n",
        "    urllib.request.urlretrieve( url, file)\n",
        "    return;\n",
        "\n",
        "def fetch_files( leagues, startyear, endyear):\n",
        "    \"Downloads the football data leagues specified for the start and end year\"\n",
        "    for i in range( startyear, endyear) :\n",
        "        season = format( i, '02d') + format( i+1, '02d')\n",
        "        for league in leagues :\n",
        "            url = common.FOOTBALL_DATA_RESULTS_BASE_URL + season + \"/\" + league + \".csv\"\n",
        "            file = common.DATA_RAW_PATH + league + \"_\" + season + \".csv\"\n",
        "            fetch_file(url, file)\n",
        "    return;\n",
        "\n",
        "def delete_files( directory ):\n",
        "    \"Deletes the files in the specified directory\"\n",
        "    print(\"Deleting previous fetched files: \" + directory )\n",
        "    files = [os.path.join(directory, f) for f in os.listdir(directory) if f.endswith(\".csv\")]\n",
        "    for file in files:\n",
        "        os.remove( file )\n",
        "    return\n",
        "\n",
        "def fetch( leagues = [\"E0\", \"E1\", \"E2\", \"E3\"], startyear = 0, endyear = 16) :\n",
        "    \"Fetch the dataset for all English leagues between 2000 - 2016 ( by default) \"\n",
        "    try:\n",
        "        print(\"Fetching File for Leagues: \"  + str(leagues) +  \" Start Year: \" + str(startyear) + \" End year: \" + str(endyear) )\n",
        "        delete_files( DATA_RAW_PATH )\n",
        "        fetch_files( leagues, startyear, endyear)\n",
        "    except Exception as e:\n",
        "        print( e )\n",
        "    return\n",
        "   "
      ],
      "execution_count": 0,
      "outputs": []
    }
  ]
}