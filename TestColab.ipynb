{
  "nbformat": 4,
  "nbformat_minor": 0,
  "metadata": {
    "colab": {
      "name": "TestColab.ipynb",
      "version": "0.3.2",
      "provenance": [],
      "collapsed_sections": [],
      "include_colab_link": true
    },
    "kernelspec": {
      "name": "python3",
      "display_name": "Python 3"
    }
  },
  "cells": [
    {
      "cell_type": "markdown",
      "metadata": {
        "id": "view-in-github",
        "colab_type": "text"
      },
      "source": [
        "<a href=\"https://colab.research.google.com/github/RedevLtd/ml-colab-test-1/blob/master/TestColab.ipynb\" target=\"_parent\"><img src=\"https://colab.research.google.com/assets/colab-badge.svg\" alt=\"Open In Colab\"/></a>"
      ]
    },
    {
      "cell_type": "markdown",
      "metadata": {
        "id": "2gT8CQ0fOuZA",
        "colab_type": "text"
      },
      "source": [
        "This is our first Colab notebook."
      ]
    },
    {
      "cell_type": "code",
      "metadata": {
        "id": "r8f4xpytPT0A",
        "colab_type": "code",
        "outputId": "b060c8d6-1870-4852-df98-16f1944fc17f",
        "colab": {
          "base_uri": "https://localhost:8080/",
          "height": 35
        }
      },
      "source": [
        "print(\"hello world from colab!\");"
      ],
      "execution_count": 0,
      "outputs": [
        {
          "output_type": "stream",
          "text": [
            "hello world from colab!\n"
          ],
          "name": "stdout"
        }
      ]
    },
    {
      "cell_type": "markdown",
      "metadata": {
        "id": "sKExdYjwQAP4",
        "colab_type": "text"
      },
      "source": [
        "Second line"
      ]
    },
    {
      "cell_type": "code",
      "metadata": {
        "id": "4vE-Y8osQCKS",
        "colab_type": "code",
        "outputId": "729d8d08-542d-4d99-ed3d-224ccfc22968",
        "colab": {
          "base_uri": "https://localhost:8080/",
          "height": 35
        }
      },
      "source": [
        "print(\"THis is the second line in colab!\");"
      ],
      "execution_count": 0,
      "outputs": [
        {
          "output_type": "stream",
          "text": [
            "THis is the second line in colab!\n"
          ],
          "name": "stdout"
        }
      ]
    },
    {
      "cell_type": "code",
      "metadata": {
        "id": "ZmvrRXEpUD3o",
        "colab_type": "code",
        "colab": {
          "base_uri": "https://localhost:8080/",
          "height": 34
        },
        "outputId": "2190be96-5f55-43ad-97b4-2eafe11f6ae2"
      },
      "source": [
        "print(\"This is a change to the code\")"
      ],
      "execution_count": 1,
      "outputs": [
        {
          "output_type": "stream",
          "text": [
            "This is a change to the code\n"
          ],
          "name": "stdout"
        }
      ]
    }
  ]
}